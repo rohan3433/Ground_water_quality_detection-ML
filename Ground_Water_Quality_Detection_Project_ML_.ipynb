{
  "nbformat": 4,
  "nbformat_minor": 0,
  "metadata": {
    "colab": {
      "provenance": [],
      "authorship_tag": "ABX9TyO+rJSH13WMlx4ub7O+II25",
      "include_colab_link": true
    },
    "kernelspec": {
      "name": "python3",
      "display_name": "Python 3"
    },
    "language_info": {
      "name": "python"
    }
  },
  "cells": [
    {
      "cell_type": "markdown",
      "metadata": {
        "id": "view-in-github",
        "colab_type": "text"
      },
      "source": [
        "<a href=\"https://colab.research.google.com/github/rohan3433/Ground_water_quality_detection-ML/blob/main/Ground_Water_Quality_Detection_Project_ML_.ipynb\" target=\"_parent\"><img src=\"https://colab.research.google.com/assets/colab-badge.svg\" alt=\"Open In Colab\"/></a>"
      ]
    },
    {
      "cell_type": "code",
      "execution_count": null,
      "metadata": {
        "id": "qpUUg9GekkoK"
      },
      "outputs": [],
      "source": [
        "import pandas as pd\n",
        "import numpy as np\n",
        "import matplotlib.pyplot as plt\n",
        "import seaborn as sns\n",
        "\n",
        "# Mount Google Drive\n",
        "from google.colab import drive\n",
        "drive.mount('/content/drive')\n",
        "\n",
        "# Load datasets\n",
        "df_1 = pd.read_csv('/content/ground_water_quality_2018_post.csv')\n",
        "df_2 = pd.read_csv('/content/ground_water_quality_2019_post.csv')\n",
        "df_3 = pd.read_csv('/content/ground_water_quality_2020_post.csv')"
      ]
    },
    {
      "cell_type": "code",
      "source": [
        "# Fill missing values with column mean\n",
        "df_1.fillna(df_1.mean(), inplace=True)\n",
        "\n",
        "# Rename columns in df_2 and fill missing values\n",
        "replaced_names = {'CO_-2 ': 'CO3', 'HCO_ - ': 'HCO3', 'Cl -': 'Cl', 'F -': 'F',\n",
        "                  'NO3- ': 'NO3 ', 'SO4-2': 'SO4', 'Na+': 'Na', 'K+': 'K',\n",
        "                  'Ca+2': 'Ca', 'Mg+2': 'Mg', 'EC': 'E.C'}\n",
        "df_2.rename(columns=replaced_names, inplace=True)\n",
        "df_2.fillna(df_2.mean(), inplace=True)\n",
        "\n",
        "# Drop unwanted column in df_3 and fill missing values\n",
        "df_3.drop('Unnamed: 8', axis=1, inplace=True)\n",
        "df_3.fillna(df_3.mean(), inplace=True)\n",
        "\n",
        "# Combine the datasets\n",
        "df = pd.concat([df_1, df_2, df_3])\n",
        "\n",
        "# Replace classification values\n",
        "df['Classification'] = df['Classification'].replace({'O.G': 'OG'})\n",
        "\n",
        "# List of numerical columns\n",
        "numcol = ['lat_gis', 'long_gis', 'gwl', 'pH', 'E.C', 'TDS', 'CO3', 'HCO3',\n",
        "          'Cl', 'F', 'NO3 ', 'SO4', 'Na', 'K', 'Ca', 'Mg', 'T.H', 'SAR',\n",
        "          'RSC  meq  / L']\n",
        "\n",
        "# Correcting a specific value in pH and converting to float\n",
        "df.loc[261, 'pH'] = 8.05\n",
        "df['pH'] = df['pH'].astype(float)"
      ],
      "metadata": {
        "id": "pbdSHQUDlmWZ"
      },
      "execution_count": null,
      "outputs": []
    },
    {
      "cell_type": "code",
      "source": [
        "# Scatter plots of SAR vs other features\n",
        "fig = plt.figure(figsize=(25, 30))\n",
        "for i in range(len(numcol)):\n",
        "    plt.subplot(7, 3, i+1)\n",
        "    plt.title(numcol[i])\n",
        "    sns.scatterplot(data=df, x=df['SAR'], y=df[numcol[i]], hue=df['Classification'])\n",
        "plt.tight_layout()\n",
        "plt.show()\n",
        "\n",
        "# Scatter plots of E.C vs other features\n",
        "fig = plt.figure(figsize=(25, 30))\n",
        "for i in range(len(numcol)):\n",
        "    plt.subplot(7, 3, i+1)\n",
        "    plt.title(numcol[i])\n",
        "    sns.scatterplot(data=df, x=df['E.C'], y=df[numcol[i]], hue=df['Classification'])\n",
        "plt.tight_layout()\n",
        "plt.show()\n",
        "\n"
      ],
      "metadata": {
        "id": "JP_gm-2il09x"
      },
      "execution_count": null,
      "outputs": []
    },
    {
      "cell_type": "code",
      "source": [
        "# Histograms of numerical features\n",
        "fig = plt.figure(figsize=(25, 25))\n",
        "for i in range(len(numcol)):\n",
        "    plt.subplot(7, 3, i+1)\n",
        "    sns.histplot(data=df, x=df[numcol[i]], kde=True)\n",
        "plt.tight_layout()\n",
        "plt.show()\n",
        "\n"
      ],
      "metadata": {
        "id": "rYZLsG3Jl6Lq"
      },
      "execution_count": null,
      "outputs": []
    },
    {
      "cell_type": "code",
      "source": [
        "# Log transformation of specific features\n",
        "var_features = ['gwl', 'E.C', 'TDS', 'CO3', 'HCO3', 'Cl', 'F', 'NO3 ', 'SO4',\n",
        "                'Na', 'K', 'Ca', 'Mg', 'T.H', 'SAR']\n",
        "df[var_features] = np.log1p(df[var_features])\n",
        "\n",
        "# Histograms of log-transformed features\n",
        "fig = plt.figure(figsize=(25, 25))\n",
        "for i in range(len(var_features)):\n",
        "    plt.subplot(5, 3, i+1)\n",
        "    sns.histplot(data=df, x=var_features[i], kde=True)\n",
        "plt.tight_layout()\n",
        "plt.show()\n",
        "\n"
      ],
      "metadata": {
        "id": "YrsnTJ8zmBA4"
      },
      "execution_count": null,
      "outputs": []
    },
    {
      "cell_type": "code",
      "source": [
        "# Filtering the dataset\n",
        "df = df[df['Classification'] != 'OG']\n",
        "df['Classification'] = df['Classification'].replace(\n",
        "    ['C2S1', 'C3S1', 'C4S2', 'C4S1', 'C3S2', 'C4S4', 'C4S3', 'C1S1',\n",
        "     'C3S4', 'C3S3', 'C2S2'],\n",
        "    [2, 1, 0, 0, 1, 0, 0, 3, 0, 1, 2]\n",
        ")\n",
        "\n",
        "# Defining features and target\n",
        "X = df.drop(['sno', 'Classification', 'district', 'mandal', 'village',\n",
        "             'E.C', 'SAR', 'Classification.1', 'TDS'], axis=1)\n",
        "y = df['Classification']\n",
        "\n",
        "# One-hot encoding\n",
        "X = pd.get_dummies(X)\n",
        "\n",
        "# Splitting data into training and testing sets\n",
        "from sklearn.model_selection import train_test_split\n",
        "X_train, X_test, y_train, y_test = train_test_split(X, y, test_size=0.3, random_state=1234)\n",
        "\n"
      ],
      "metadata": {
        "id": "SggKRsRwmGJn"
      },
      "execution_count": null,
      "outputs": []
    },
    {
      "cell_type": "code",
      "source": [
        "# SVM classifiers with different kernels\n",
        "from sklearn.svm import SVC\n",
        "svm_linear = SVC(kernel='linear', random_state=1234)\n",
        "svm_poly = SVC(kernel='poly', degree=3, random_state=1234)\n",
        "svm_rbf = SVC(kernel='rbf', random_state=1234)\n",
        "svm_sigmoid = SVC(kernel='sigmoid', random_state=1234)\n",
        "\n",
        "# Training SVM models\n",
        "svm_linear.fit(X_train, y_train)\n",
        "svm_poly.fit(X_train, y_train)\n",
        "svm_rbf.fit(X_train, y_train)\n",
        "svm_sigmoid.fit(X_train, y_train)\n",
        "\n",
        "# Evaluating SVM models\n",
        "linear_accuracy = svm_linear.score(X_test, y_test)\n",
        "poly_accuracy = svm_poly.score(X_test, y_test)\n",
        "rbf_accuracy = svm_rbf.score(X_test, y_test)\n",
        "sigmoid_accuracy = svm_sigmoid.score(X_test, y_test)\n",
        "\n",
        "print(\"Linear Kernel Accuracy:\", linear_accuracy)\n",
        "print(\"Polynomial Kernel Accuracy:\", poly_accuracy)\n",
        "print(\"RBF Kernel Accuracy:\", rbf_accuracy)\n",
        "print(\"Sigmoid Kernel Accuracy:\", sigmoid_accuracy)\n",
        "\n"
      ],
      "metadata": {
        "id": "Wav4HY01mN1x"
      },
      "execution_count": null,
      "outputs": []
    },
    {
      "cell_type": "code",
      "source": [
        "# Precision, recall, F1-score, and classification report\n",
        "from sklearn.metrics import precision_score, recall_score, f1_score, classification_report\n",
        "\n",
        "linear_predictions = svm_linear.predict(X_test)\n",
        "poly_predictions = svm_poly.predict(X_test)\n",
        "rbf_predictions = svm_rbf.predict(X_test)\n",
        "sigmoid_predictions = svm_sigmoid.predict(X_test)\n",
        "\n",
        "linear_precision = precision_score(y_test, linear_predictions, average='weighted')\n",
        "linear_recall = recall_score(y_test, linear_predictions, average='weighted')\n",
        "linear_f1 = f1_score(y_test, linear_predictions, average='weighted')\n",
        "linear_classification_report = classification_report(y_test, linear_predictions, zero_division=0)\n",
        "\n",
        "poly_precision = precision_score(y_test, poly_predictions, average='weighted')\n",
        "poly_recall = recall_score(y_test, poly_predictions, average='weighted')\n",
        "poly_f1 = f1_score(y_test, poly_predictions, average='weighted')\n",
        "poly_classification_report = classification_report(y_test, poly_predictions, zero_division=0)\n",
        "\n",
        "rbf_precision = precision_score(y_test, rbf_predictions, average='weighted')\n",
        "rbf_recall = recall_score(y_test, rbf_predictions, average='weighted')\n",
        "rbf_f1 = f1_score(y_test, rbf_predictions, average='weighted')\n",
        "rbf_classification_report = classification_report(y_test, rbf_predictions, zero_division=0)\n",
        "\n",
        "sigmoid_precision = precision_score(y_test, sigmoid_predictions, average='weighted')\n",
        "sigmoid_recall = recall_score(y_test, sigmoid_predictions, average='weighted')\n",
        "sigmoid_f1 = f1_score(y_test, sigmoid_predictions, average='weighted')\n",
        "sigmoid_classification_report = classification_report(y_test, sigmoid_predictions, zero_division=0)\n",
        "\n",
        "print(\"Linear Kernel Metrics:\")\n",
        "print(f\"Precision: {linear_precision}\")\n",
        "print(f\"Recall: {linear_recall}\")\n",
        "print(f\"F1-score: {linear_f1}\")\n",
        "print(\"Classification Report:\")\n",
        "print(linear_classification_report)\n",
        "\n"
      ],
      "metadata": {
        "id": "d0jV9VPUmUUQ"
      },
      "execution_count": null,
      "outputs": []
    },
    {
      "cell_type": "code",
      "source": [
        "# Grid Search for Hyperparameter Tuning\n",
        "from sklearn.model_selection import GridSearchCV\n",
        "\n",
        "# Parameter grids for each kernel\n",
        "param_grid_linear = {'C': [0.1, 1, 10, 100]}  # Linear kernel\n",
        "param_grid_poly = {'C': [0.1, 1, 10, 100], 'degree': [2, 3, 4]}  # Polynomial kernel\n",
        "param_grid_rbf = {'C': [0.1, 1, 10, 100], 'gamma': [0.1, 0.01, 0.001]}  # RBF kernel\n",
        "param_grid_sigmoid = {'C': [0.1, 1, 10, 100], 'gamma': [0.1, 0.01, 0.001]}  # Sigmoid kernel\n",
        "\n",
        "# Perform grid search for each SVM model\n",
        "grid_linear = GridSearchCV(svm_linear, param_grid_linear, cv=5)\n",
        "grid_poly = GridSearchCV(svm_poly, param_grid_poly, cv=5)\n",
        "grid_rbf = GridSearchCV(svm_rbf, param_grid_rbf, cv=5)\n",
        "grid_sigmoid = GridSearchCV(svm_sigmoid, param_grid_sigmoid, cv=5)\n",
        "\n",
        "# Fit the models\n",
        "grid_linear.fit(X_train, y_train)\n",
        "grid_poly.fit(X_train, y_train)\n",
        "grid_rbf.fit(X_train, y_train)\n",
        "grid_sigmoid.fit(X_train, y_train)\n",
        "\n",
        "# Best parameters for each kernel\n",
        "print(\"Best parameters for Linear Kernel:\", grid_linear.best_params_)\n",
        "print(\"Best parameters for Polynomial Kernel:\", grid_poly.best_params_)\n",
        "print(\"Best parameters for RBF Kernel:\", grid_rbf.best_params_)\n",
        "print(\"Best parameters for Sigmoid Kernel:\", grid_sigmoid.best_params_)\n"
      ],
      "metadata": {
        "id": "qaZKLb3GmYWu"
      },
      "execution_count": null,
      "outputs": []
    },
    {
      "cell_type": "code",
      "source": [
        "# Evaluate the best models from Grid Search\n",
        "best_svm_linear = grid_linear.best_estimator_\n",
        "best_svm_poly = grid_poly.best_estimator_\n",
        "best_svm_rbf = grid_rbf.best_estimator_\n",
        "best_svm_sigmoid = grid_sigmoid.best_estimator_\n",
        "\n",
        "# Evaluate on test data\n",
        "best_linear_accuracy = best_svm_linear.score(X_test, y_test)\n",
        "best_poly_accuracy = best_svm_poly.score(X_test, y_test)\n",
        "best_rbf_accuracy = best_svm_rbf.score(X_test, y_test)\n",
        "best_sigmoid_accuracy = best_svm_sigmoid.score(X_test, y_test)\n",
        "\n",
        "print(\"Best Linear Kernel Accuracy:\", best_linear_accuracy)\n",
        "print(\"Best Polynomial Kernel Accuracy:\", best_poly_accuracy)\n",
        "print(\"Best RBF Kernel Accuracy:\", best_rbf_accuracy)\n",
        "print(\"Best Sigmoid Kernel Accuracy:\", best_sigmoid_accuracy)\n",
        "\n"
      ],
      "metadata": {
        "id": "MX6fTlUlmdyu"
      },
      "execution_count": null,
      "outputs": []
    },
    {
      "cell_type": "code",
      "source": [
        "# Classification reports for best models\n",
        "best_linear_predictions = best_svm_linear.predict(X_test)\n",
        "best_poly_predictions = best_svm_poly.predict(X_test)\n",
        "best_rbf_predictions = best_svm_rbf.predict(X_test)\n",
        "best_sigmoid_predictions = best_svm_sigmoid.predict(X_test)\n",
        "\n",
        "best_linear_classification_report = classification_report(y_test, best_linear_predictions, zero_division=0)\n",
        "best_poly_classification_report = classification_report(y_test, best_poly_predictions, zero_division=0)\n",
        "best_rbf_classification_report = classification_report(y_test, best_rbf_predictions, zero_division=0)\n",
        "best_sigmoid_classification_report = classification_report(y_test, best_sigmoid_predictions, zero_division=0)\n",
        "\n",
        "print(\"Best Linear Kernel Classification Report:\")\n",
        "print(best_linear_classification_report)\n",
        "\n",
        "print(\"Best Polynomial Kernel Classification Report:\")\n",
        "print(best_poly_classification_report)\n",
        "\n",
        "print(\"Best RBF Kernel Classification Report:\")\n",
        "print(best_rbf_classification_report)\n",
        "\n",
        "print(\"Best Sigmoid Kernel Classification Report:\")\n",
        "print(best_sigmoid_classification_report)"
      ],
      "metadata": {
        "id": "q-eOmUfAmjFW"
      },
      "execution_count": null,
      "outputs": []
    },
    {
      "cell_type": "code",
      "source": [
        "# Visualize confusion matrices for the best models\n",
        "from sklearn.metrics import confusion_matrix\n",
        "import seaborn as sns\n",
        "import matplotlib.pyplot as plt\n",
        "\n",
        "# Confusion matrices\n",
        "linear_cm = confusion_matrix(y_test, best_linear_predictions)\n",
        "poly_cm = confusion_matrix(y_test, best_poly_predictions)\n",
        "rbf_cm = confusion_matrix(y_test, best_rbf_predictions)\n",
        "sigmoid_cm = confusion_matrix(y_test, best_sigmoid_predictions)\n",
        "\n",
        "# Plot confusion matrices\n",
        "fig, axes = plt.subplots(2, 2, figsize=(20, 15))\n",
        "\n",
        "sns.heatmap(linear_cm, annot=True, fmt='d', cmap='Blues', ax=axes[0, 0])\n",
        "axes[0, 0].set_title('Linear Kernel Confusion Matrix')\n",
        "axes[0, 0].set_xlabel('Predicted')\n",
        "axes[0, 0].set_ylabel('Actual')\n",
        "\n",
        "sns.heatmap(poly_cm, annot=True, fmt='d', cmap='Blues', ax=axes[0, 1])\n",
        "axes[0, 1].set_title('Polynomial Kernel Confusion Matrix')\n",
        "axes[0, 1].set_xlabel('Predicted')\n",
        "axes[0, 1].set_ylabel('Actual')\n",
        "\n",
        "sns.heatmap(rbf_cm, annot=True, fmt='d', cmap='Blues', ax=axes[1, 0])\n",
        "axes[1, 0].set_title('RBF Kernel Confusion Matrix')\n",
        "axes[1, 0].set_xlabel('Predicted')\n",
        "axes[1, 0].set_ylabel('Actual')\n",
        "\n",
        "sns.heatmap(sigmoid_cm, annot=True, fmt='d', cmap='Blues', ax=axes[1, 1])\n",
        "axes[1, 1].set_title('Sigmoid Kernel Confusion Matrix')\n",
        "axes[1, 1].set_xlabel('Predicted')\n",
        "axes[1, 1].set_ylabel('Actual')\n",
        "\n",
        "plt.tight_layout()\n",
        "plt.show()"
      ],
      "metadata": {
        "id": "TzXYFWinmmQ-"
      },
      "execution_count": null,
      "outputs": []
    }
  ]
}